{
  "cells": [
    {
      "cell_type": "code",
      "execution_count": null,
      "metadata": {
        "colab": {
          "base_uri": "https://localhost:8080/"
        },
        "id": "BCYBCSNPy7LL",
        "outputId": "461b9814-6950-4dce-c2c7-f5464f45a334"
      },
      "outputs": [
        {
          "name": "stdout",
          "output_type": "stream",
          "text": [
            "Mounted at /content/drive\n"
          ]
        }
      ],
      "source": [
        "# from google.colab import drive\n",
        "# # drive.mount('/content/drive')"
      ]
    },
    {
      "cell_type": "code",
      "execution_count": 1,
      "metadata": {
        "id": "nERrNAmWkJA1"
      },
      "outputs": [],
      "source": [
        "from keras.models import Sequential\n",
        "from keras.layers import Dense, Dropout, Activation\n",
        "from keras.layers.embeddings import Embedding\n",
        "from keras.layers.recurrent import LSTM,GRU\n",
        "from keras.preprocessing import sequence\n",
        "from sklearn.metrics import f1_score, roc_auc_score, accuracy_score    \n",
        "from tensorflow.python.keras import models, layers, optimizers   \n",
        "from keras.layers import Conv1D, MaxPooling1D, GlobalMaxPooling1D, SpatialDropout1D\n",
        "from keras.layers.wrappers import Bidirectional\n",
        "from tensorflow.keras.optimizers import Adam, SGD, RMSprop\n",
        "from keras.callbacks import ModelCheckpoint\n",
        "from keras.callbacks import EarlyStopping\n",
        "import tensorflow as tf\n",
        "from tensorflow.keras.preprocessing.text import Tokenizer\n",
        "from tensorflow.keras.preprocessing.sequence import pad_sequences"
      ]
    },
    {
      "cell_type": "code",
      "execution_count": 2,
      "metadata": {
        "colab": {
          "base_uri": "https://localhost:8080/",
          "height": 206
        },
        "id": "UagvIWndzAcy",
        "outputId": "a933fef3-4eed-4ca0-cd2e-0b0cd15cb116"
      },
      "outputs": [
        {
          "data": {
            "text/html": [
              "<div>\n",
              "<style scoped>\n",
              "    .dataframe tbody tr th:only-of-type {\n",
              "        vertical-align: middle;\n",
              "    }\n",
              "\n",
              "    .dataframe tbody tr th {\n",
              "        vertical-align: top;\n",
              "    }\n",
              "\n",
              "    .dataframe thead th {\n",
              "        text-align: right;\n",
              "    }\n",
              "</style>\n",
              "<table border=\"1\" class=\"dataframe\">\n",
              "  <thead>\n",
              "    <tr style=\"text-align: right;\">\n",
              "      <th></th>\n",
              "      <th>3</th>\n",
              "      <th>more like funchuck</th>\n",
              "      <th>Gave this to my dad for a gag gift after directing \"Nunsense,\" he got a reall kick out of it!</th>\n",
              "    </tr>\n",
              "  </thead>\n",
              "  <tbody>\n",
              "    <tr>\n",
              "      <th>0</th>\n",
              "      <td>5</td>\n",
              "      <td>Inspiring</td>\n",
              "      <td>I hope a lot of people hear this cd. We need m...</td>\n",
              "    </tr>\n",
              "    <tr>\n",
              "      <th>1</th>\n",
              "      <td>5</td>\n",
              "      <td>The best soundtrack ever to anything.</td>\n",
              "      <td>I'm reading a lot of reviews saying that this ...</td>\n",
              "    </tr>\n",
              "    <tr>\n",
              "      <th>2</th>\n",
              "      <td>4</td>\n",
              "      <td>Chrono Cross OST</td>\n",
              "      <td>The music of Yasunori Misuda is without questi...</td>\n",
              "    </tr>\n",
              "    <tr>\n",
              "      <th>3</th>\n",
              "      <td>5</td>\n",
              "      <td>Too good to be true</td>\n",
              "      <td>Probably the greatest soundtrack in history! U...</td>\n",
              "    </tr>\n",
              "    <tr>\n",
              "      <th>4</th>\n",
              "      <td>5</td>\n",
              "      <td>There's a reason for the price</td>\n",
              "      <td>There's a reason this CD is so expensive, even...</td>\n",
              "    </tr>\n",
              "  </tbody>\n",
              "</table>\n",
              "</div>"
            ],
            "text/plain": [
              "   3                     more like funchuck  \\\n",
              "0  5                              Inspiring   \n",
              "1  5  The best soundtrack ever to anything.   \n",
              "2  4                       Chrono Cross OST   \n",
              "3  5                    Too good to be true   \n",
              "4  5         There's a reason for the price   \n",
              "\n",
              "  Gave this to my dad for a gag gift after directing \"Nunsense,\" he got a reall kick out of it!  \n",
              "0  I hope a lot of people hear this cd. We need m...                                             \n",
              "1  I'm reading a lot of reviews saying that this ...                                             \n",
              "2  The music of Yasunori Misuda is without questi...                                             \n",
              "3  Probably the greatest soundtrack in history! U...                                             \n",
              "4  There's a reason this CD is so expensive, even...                                             "
            ]
          },
          "execution_count": 2,
          "metadata": {},
          "output_type": "execute_result"
        }
      ],
      "source": [
        "import pandas as pd\n",
        "df = pd.read_csv(\"data/train.csv\")\n",
        "df.head()"
      ]
    },
    {
      "cell_type": "code",
      "execution_count": 3,
      "metadata": {
        "colab": {
          "base_uri": "https://localhost:8080/",
          "height": 423
        },
        "id": "mIVyFjZg5muy",
        "outputId": "f44dfda6-fab8-4f22-af58-1b94ad8a1eb2"
      },
      "outputs": [
        {
          "data": {
            "text/html": [
              "<div>\n",
              "<style scoped>\n",
              "    .dataframe tbody tr th:only-of-type {\n",
              "        vertical-align: middle;\n",
              "    }\n",
              "\n",
              "    .dataframe tbody tr th {\n",
              "        vertical-align: top;\n",
              "    }\n",
              "\n",
              "    .dataframe thead th {\n",
              "        text-align: right;\n",
              "    }\n",
              "</style>\n",
              "<table border=\"1\" class=\"dataframe\">\n",
              "  <thead>\n",
              "    <tr style=\"text-align: right;\">\n",
              "      <th></th>\n",
              "      <th>rating</th>\n",
              "      <th>title</th>\n",
              "      <th>text</th>\n",
              "    </tr>\n",
              "  </thead>\n",
              "  <tbody>\n",
              "    <tr>\n",
              "      <th>0</th>\n",
              "      <td>5</td>\n",
              "      <td>Inspiring</td>\n",
              "      <td>I hope a lot of people hear this cd. We need m...</td>\n",
              "    </tr>\n",
              "    <tr>\n",
              "      <th>1</th>\n",
              "      <td>5</td>\n",
              "      <td>The best soundtrack ever to anything.</td>\n",
              "      <td>I'm reading a lot of reviews saying that this ...</td>\n",
              "    </tr>\n",
              "    <tr>\n",
              "      <th>2</th>\n",
              "      <td>4</td>\n",
              "      <td>Chrono Cross OST</td>\n",
              "      <td>The music of Yasunori Misuda is without questi...</td>\n",
              "    </tr>\n",
              "    <tr>\n",
              "      <th>3</th>\n",
              "      <td>5</td>\n",
              "      <td>Too good to be true</td>\n",
              "      <td>Probably the greatest soundtrack in history! U...</td>\n",
              "    </tr>\n",
              "    <tr>\n",
              "      <th>4</th>\n",
              "      <td>5</td>\n",
              "      <td>There's a reason for the price</td>\n",
              "      <td>There's a reason this CD is so expensive, even...</td>\n",
              "    </tr>\n",
              "    <tr>\n",
              "      <th>...</th>\n",
              "      <td>...</td>\n",
              "      <td>...</td>\n",
              "      <td>...</td>\n",
              "    </tr>\n",
              "    <tr>\n",
              "      <th>2999994</th>\n",
              "      <td>1</td>\n",
              "      <td>Don't do it!!</td>\n",
              "      <td>The high chair looks great when it first comes...</td>\n",
              "    </tr>\n",
              "    <tr>\n",
              "      <th>2999995</th>\n",
              "      <td>2</td>\n",
              "      <td>Looks nice, low functionality</td>\n",
              "      <td>I have used this highchair for 2 kids now and ...</td>\n",
              "    </tr>\n",
              "    <tr>\n",
              "      <th>2999996</th>\n",
              "      <td>2</td>\n",
              "      <td>compact, but hard to clean</td>\n",
              "      <td>We have a small house, and really wanted two o...</td>\n",
              "    </tr>\n",
              "    <tr>\n",
              "      <th>2999997</th>\n",
              "      <td>3</td>\n",
              "      <td>Hard to clean!</td>\n",
              "      <td>I agree with everyone else who says this chair...</td>\n",
              "    </tr>\n",
              "    <tr>\n",
              "      <th>2999998</th>\n",
              "      <td>1</td>\n",
              "      <td>what is it saying?</td>\n",
              "      <td>not sure what this book is supposed to be. It ...</td>\n",
              "    </tr>\n",
              "  </tbody>\n",
              "</table>\n",
              "<p>2999999 rows × 3 columns</p>\n",
              "</div>"
            ],
            "text/plain": [
              "         rating                                  title  \\\n",
              "0             5                              Inspiring   \n",
              "1             5  The best soundtrack ever to anything.   \n",
              "2             4                       Chrono Cross OST   \n",
              "3             5                    Too good to be true   \n",
              "4             5         There's a reason for the price   \n",
              "...         ...                                    ...   \n",
              "2999994       1                          Don't do it!!   \n",
              "2999995       2          Looks nice, low functionality   \n",
              "2999996       2             compact, but hard to clean   \n",
              "2999997       3                         Hard to clean!   \n",
              "2999998       1                     what is it saying?   \n",
              "\n",
              "                                                      text  \n",
              "0        I hope a lot of people hear this cd. We need m...  \n",
              "1        I'm reading a lot of reviews saying that this ...  \n",
              "2        The music of Yasunori Misuda is without questi...  \n",
              "3        Probably the greatest soundtrack in history! U...  \n",
              "4        There's a reason this CD is so expensive, even...  \n",
              "...                                                    ...  \n",
              "2999994  The high chair looks great when it first comes...  \n",
              "2999995  I have used this highchair for 2 kids now and ...  \n",
              "2999996  We have a small house, and really wanted two o...  \n",
              "2999997  I agree with everyone else who says this chair...  \n",
              "2999998  not sure what this book is supposed to be. It ...  \n",
              "\n",
              "[2999999 rows x 3 columns]"
            ]
          },
          "execution_count": 3,
          "metadata": {},
          "output_type": "execute_result"
        }
      ],
      "source": [
        "df.columns=[\"rating\",\"title\",\"text\"]\n",
        "df"
      ]
    },
    {
      "cell_type": "code",
      "execution_count": 4,
      "metadata": {
        "colab": {
          "base_uri": "https://localhost:8080/"
        },
        "id": "wdBjI392etCb",
        "outputId": "58c69530-3be0-4fae-b2bc-a2f9c70acb00"
      },
      "outputs": [
        {
          "name": "stderr",
          "output_type": "stream",
          "text": [
            "[nltk_data] Downloading package stopwords to /home/lupin/nltk_data...\n",
            "[nltk_data]   Package stopwords is already up-to-date!\n"
          ]
        },
        {
          "data": {
            "text/plain": [
              "True"
            ]
          },
          "execution_count": 4,
          "metadata": {},
          "output_type": "execute_result"
        }
      ],
      "source": [
        "train=df\n",
        "\n",
        "import numpy as np # linear algebra\n",
        "import pandas as pd \n",
        "import nltk\n",
        "nltk.download('stopwords')"
      ]
    },
    {
      "cell_type": "code",
      "execution_count": 5,
      "metadata": {
        "colab": {
          "base_uri": "https://localhost:8080/"
        },
        "id": "K_HZTyN4fqry",
        "outputId": "1ab053bb-ced6-4420-e27d-45fcddc9b657"
      },
      "outputs": [
        {
          "name": "stderr",
          "output_type": "stream",
          "text": [
            "/tmp/ipykernel_6850/2925514527.py:5: SettingWithCopyWarning: \n",
            "A value is trying to be set on a copy of a slice from a DataFrame\n",
            "\n",
            "See the caveats in the documentation: https://pandas.pydata.org/pandas-docs/stable/user_guide/indexing.html#returning-a-view-versus-a-copy\n",
            "  train['rating'][i]=1\n",
            "/tmp/ipykernel_6850/2925514527.py:3: SettingWithCopyWarning: \n",
            "A value is trying to be set on a copy of a slice from a DataFrame\n",
            "\n",
            "See the caveats in the documentation: https://pandas.pydata.org/pandas-docs/stable/user_guide/indexing.html#returning-a-view-versus-a-copy\n",
            "  train['rating'][i]=0\n"
          ]
        }
      ],
      "source": [
        "for i in range(len(train)):\n",
        "  if train['rating'][i]==1 or train['rating'][i]==2:\n",
        "    train['rating'][i]=0\n",
        "  else:\n",
        "    train['rating'][i]=1"
      ]
    },
    {
      "cell_type": "code",
      "execution_count": 6,
      "metadata": {
        "colab": {
          "base_uri": "https://localhost:8080/",
          "height": 423
        },
        "id": "41fG6nvQgK22",
        "outputId": "ed35b1b4-0be0-4fd5-93ee-7be6f17a7f27"
      },
      "outputs": [
        {
          "data": {
            "text/html": [
              "<div>\n",
              "<style scoped>\n",
              "    .dataframe tbody tr th:only-of-type {\n",
              "        vertical-align: middle;\n",
              "    }\n",
              "\n",
              "    .dataframe tbody tr th {\n",
              "        vertical-align: top;\n",
              "    }\n",
              "\n",
              "    .dataframe thead th {\n",
              "        text-align: right;\n",
              "    }\n",
              "</style>\n",
              "<table border=\"1\" class=\"dataframe\">\n",
              "  <thead>\n",
              "    <tr style=\"text-align: right;\">\n",
              "      <th></th>\n",
              "      <th>rating</th>\n",
              "      <th>title</th>\n",
              "      <th>text</th>\n",
              "    </tr>\n",
              "  </thead>\n",
              "  <tbody>\n",
              "    <tr>\n",
              "      <th>0</th>\n",
              "      <td>1</td>\n",
              "      <td>Inspiring</td>\n",
              "      <td>I hope a lot of people hear this cd. We need m...</td>\n",
              "    </tr>\n",
              "    <tr>\n",
              "      <th>1</th>\n",
              "      <td>1</td>\n",
              "      <td>The best soundtrack ever to anything.</td>\n",
              "      <td>I'm reading a lot of reviews saying that this ...</td>\n",
              "    </tr>\n",
              "    <tr>\n",
              "      <th>2</th>\n",
              "      <td>1</td>\n",
              "      <td>Chrono Cross OST</td>\n",
              "      <td>The music of Yasunori Misuda is without questi...</td>\n",
              "    </tr>\n",
              "    <tr>\n",
              "      <th>3</th>\n",
              "      <td>1</td>\n",
              "      <td>Too good to be true</td>\n",
              "      <td>Probably the greatest soundtrack in history! U...</td>\n",
              "    </tr>\n",
              "    <tr>\n",
              "      <th>4</th>\n",
              "      <td>1</td>\n",
              "      <td>There's a reason for the price</td>\n",
              "      <td>There's a reason this CD is so expensive, even...</td>\n",
              "    </tr>\n",
              "    <tr>\n",
              "      <th>...</th>\n",
              "      <td>...</td>\n",
              "      <td>...</td>\n",
              "      <td>...</td>\n",
              "    </tr>\n",
              "    <tr>\n",
              "      <th>2999994</th>\n",
              "      <td>0</td>\n",
              "      <td>Don't do it!!</td>\n",
              "      <td>The high chair looks great when it first comes...</td>\n",
              "    </tr>\n",
              "    <tr>\n",
              "      <th>2999995</th>\n",
              "      <td>0</td>\n",
              "      <td>Looks nice, low functionality</td>\n",
              "      <td>I have used this highchair for 2 kids now and ...</td>\n",
              "    </tr>\n",
              "    <tr>\n",
              "      <th>2999996</th>\n",
              "      <td>0</td>\n",
              "      <td>compact, but hard to clean</td>\n",
              "      <td>We have a small house, and really wanted two o...</td>\n",
              "    </tr>\n",
              "    <tr>\n",
              "      <th>2999997</th>\n",
              "      <td>1</td>\n",
              "      <td>Hard to clean!</td>\n",
              "      <td>I agree with everyone else who says this chair...</td>\n",
              "    </tr>\n",
              "    <tr>\n",
              "      <th>2999998</th>\n",
              "      <td>0</td>\n",
              "      <td>what is it saying?</td>\n",
              "      <td>not sure what this book is supposed to be. It ...</td>\n",
              "    </tr>\n",
              "  </tbody>\n",
              "</table>\n",
              "<p>2999999 rows × 3 columns</p>\n",
              "</div>"
            ],
            "text/plain": [
              "         rating                                  title  \\\n",
              "0             1                              Inspiring   \n",
              "1             1  The best soundtrack ever to anything.   \n",
              "2             1                       Chrono Cross OST   \n",
              "3             1                    Too good to be true   \n",
              "4             1         There's a reason for the price   \n",
              "...         ...                                    ...   \n",
              "2999994       0                          Don't do it!!   \n",
              "2999995       0          Looks nice, low functionality   \n",
              "2999996       0             compact, but hard to clean   \n",
              "2999997       1                         Hard to clean!   \n",
              "2999998       0                     what is it saying?   \n",
              "\n",
              "                                                      text  \n",
              "0        I hope a lot of people hear this cd. We need m...  \n",
              "1        I'm reading a lot of reviews saying that this ...  \n",
              "2        The music of Yasunori Misuda is without questi...  \n",
              "3        Probably the greatest soundtrack in history! U...  \n",
              "4        There's a reason this CD is so expensive, even...  \n",
              "...                                                    ...  \n",
              "2999994  The high chair looks great when it first comes...  \n",
              "2999995  I have used this highchair for 2 kids now and ...  \n",
              "2999996  We have a small house, and really wanted two o...  \n",
              "2999997  I agree with everyone else who says this chair...  \n",
              "2999998  not sure what this book is supposed to be. It ...  \n",
              "\n",
              "[2999999 rows x 3 columns]"
            ]
          },
          "execution_count": 6,
          "metadata": {},
          "output_type": "execute_result"
        }
      ],
      "source": [
        "train"
      ]
    },
    {
      "cell_type": "code",
      "execution_count": 7,
      "metadata": {
        "id": "mIzRTleijDtJ"
      },
      "outputs": [],
      "source": [
        "import re\n",
        "import string\n",
        "from nltk.corpus import stopwords\n"
      ]
    },
    {
      "cell_type": "code",
      "execution_count": 8,
      "metadata": {
        "colab": {
          "base_uri": "https://localhost:8080/",
          "height": 319
        },
        "id": "-A7ujAil1KbB",
        "outputId": "e743bb58-c42b-46ce-b73d-37ebbffebb2d"
      },
      "outputs": [
        {
          "data": {
            "text/html": [
              "<div>\n",
              "<style scoped>\n",
              "    .dataframe tbody tr th:only-of-type {\n",
              "        vertical-align: middle;\n",
              "    }\n",
              "\n",
              "    .dataframe tbody tr th {\n",
              "        vertical-align: top;\n",
              "    }\n",
              "\n",
              "    .dataframe thead th {\n",
              "        text-align: right;\n",
              "    }\n",
              "</style>\n",
              "<table border=\"1\" class=\"dataframe\">\n",
              "  <thead>\n",
              "    <tr style=\"text-align: right;\">\n",
              "      <th></th>\n",
              "      <th>1</th>\n",
              "      <th>mens ultrasheer</th>\n",
              "      <th>This model may be ok for sedentary types, but I'm active and get around alot in my job - consistently found these stockings rolled up down by my ankles! Not Good!! Solution: go with the standard compression stocking, 20-30, stock #114622. Excellent support, stays up and gives me what I need. Both pair of these also tore as I struggled to pull them up all the time. Good riddance/bad investment!</th>\n",
              "    </tr>\n",
              "  </thead>\n",
              "  <tbody>\n",
              "    <tr>\n",
              "      <th>0</th>\n",
              "      <td>4</td>\n",
              "      <td>Surprisingly delightful</td>\n",
              "      <td>This is a fast read filled with unexpected hum...</td>\n",
              "    </tr>\n",
              "    <tr>\n",
              "      <th>1</th>\n",
              "      <td>2</td>\n",
              "      <td>Works, but not as advertised</td>\n",
              "      <td>I bought one of these chargers..the instructio...</td>\n",
              "    </tr>\n",
              "    <tr>\n",
              "      <th>2</th>\n",
              "      <td>2</td>\n",
              "      <td>Oh dear</td>\n",
              "      <td>I was excited to find a book ostensibly about ...</td>\n",
              "    </tr>\n",
              "    <tr>\n",
              "      <th>3</th>\n",
              "      <td>2</td>\n",
              "      <td>Incorrect disc!</td>\n",
              "      <td>I am a big JVC fan, but I do not like this mod...</td>\n",
              "    </tr>\n",
              "    <tr>\n",
              "      <th>4</th>\n",
              "      <td>2</td>\n",
              "      <td>Incorrect Disc</td>\n",
              "      <td>I love the style of this, but after a couple y...</td>\n",
              "    </tr>\n",
              "  </tbody>\n",
              "</table>\n",
              "</div>"
            ],
            "text/plain": [
              "   1               mens ultrasheer  \\\n",
              "0  4       Surprisingly delightful   \n",
              "1  2  Works, but not as advertised   \n",
              "2  2                       Oh dear   \n",
              "3  2               Incorrect disc!   \n",
              "4  2                Incorrect Disc   \n",
              "\n",
              "  This model may be ok for sedentary types, but I'm active and get around alot in my job - consistently found these stockings rolled up down by my ankles! Not Good!! Solution: go with the standard compression stocking, 20-30, stock #114622. Excellent support, stays up and gives me what I need. Both pair of these also tore as I struggled to pull them up all the time. Good riddance/bad investment!  \n",
              "0  This is a fast read filled with unexpected hum...                                                                                                                                                                                                                                                                                                                                                            \n",
              "1  I bought one of these chargers..the instructio...                                                                                                                                                                                                                                                                                                                                                            \n",
              "2  I was excited to find a book ostensibly about ...                                                                                                                                                                                                                                                                                                                                                            \n",
              "3  I am a big JVC fan, but I do not like this mod...                                                                                                                                                                                                                                                                                                                                                            \n",
              "4  I love the style of this, but after a couple y...                                                                                                                                                                                                                                                                                                                                                            "
            ]
          },
          "execution_count": 8,
          "metadata": {},
          "output_type": "execute_result"
        }
      ],
      "source": [
        "df_test = pd.read_csv(\"data/test.csv\")\n",
        "df_test.head()"
      ]
    },
    {
      "cell_type": "code",
      "execution_count": 9,
      "metadata": {
        "colab": {
          "base_uri": "https://localhost:8080/",
          "height": 423
        },
        "id": "eu8TUkvq5t2y",
        "outputId": "5e873b3a-162c-432a-83a5-f33a119c5695"
      },
      "outputs": [
        {
          "data": {
            "text/html": [
              "<div>\n",
              "<style scoped>\n",
              "    .dataframe tbody tr th:only-of-type {\n",
              "        vertical-align: middle;\n",
              "    }\n",
              "\n",
              "    .dataframe tbody tr th {\n",
              "        vertical-align: top;\n",
              "    }\n",
              "\n",
              "    .dataframe thead th {\n",
              "        text-align: right;\n",
              "    }\n",
              "</style>\n",
              "<table border=\"1\" class=\"dataframe\">\n",
              "  <thead>\n",
              "    <tr style=\"text-align: right;\">\n",
              "      <th></th>\n",
              "      <th>rating</th>\n",
              "      <th>title</th>\n",
              "      <th>text</th>\n",
              "    </tr>\n",
              "  </thead>\n",
              "  <tbody>\n",
              "    <tr>\n",
              "      <th>0</th>\n",
              "      <td>4</td>\n",
              "      <td>Surprisingly delightful</td>\n",
              "      <td>This is a fast read filled with unexpected hum...</td>\n",
              "    </tr>\n",
              "    <tr>\n",
              "      <th>1</th>\n",
              "      <td>2</td>\n",
              "      <td>Works, but not as advertised</td>\n",
              "      <td>I bought one of these chargers..the instructio...</td>\n",
              "    </tr>\n",
              "    <tr>\n",
              "      <th>2</th>\n",
              "      <td>2</td>\n",
              "      <td>Oh dear</td>\n",
              "      <td>I was excited to find a book ostensibly about ...</td>\n",
              "    </tr>\n",
              "    <tr>\n",
              "      <th>3</th>\n",
              "      <td>2</td>\n",
              "      <td>Incorrect disc!</td>\n",
              "      <td>I am a big JVC fan, but I do not like this mod...</td>\n",
              "    </tr>\n",
              "    <tr>\n",
              "      <th>4</th>\n",
              "      <td>2</td>\n",
              "      <td>Incorrect Disc</td>\n",
              "      <td>I love the style of this, but after a couple y...</td>\n",
              "    </tr>\n",
              "    <tr>\n",
              "      <th>...</th>\n",
              "      <td>...</td>\n",
              "      <td>...</td>\n",
              "      <td>...</td>\n",
              "    </tr>\n",
              "    <tr>\n",
              "      <th>649994</th>\n",
              "      <td>5</td>\n",
              "      <td>Pretty Cool!</td>\n",
              "      <td>We got it for our mom's birthday. She LOVES it...</td>\n",
              "    </tr>\n",
              "    <tr>\n",
              "      <th>649995</th>\n",
              "      <td>5</td>\n",
              "      <td>great cd</td>\n",
              "      <td>this cd is very good. i especially love \"cats ...</td>\n",
              "    </tr>\n",
              "    <tr>\n",
              "      <th>649996</th>\n",
              "      <td>2</td>\n",
              "      <td>An interesting look into Boston's comedy clubs</td>\n",
              "      <td>This was a good documentary on the history of ...</td>\n",
              "    </tr>\n",
              "    <tr>\n",
              "      <th>649997</th>\n",
              "      <td>5</td>\n",
              "      <td>Du vol...pour les cowboys!</td>\n",
              "      <td>Avez-vous déjà vu un CD double et un DVD avec ...</td>\n",
              "    </tr>\n",
              "    <tr>\n",
              "      <th>649998</th>\n",
              "      <td>4</td>\n",
              "      <td>A Companion Read To GUNS, GERMS, AND STEEL</td>\n",
              "      <td>If you like books that offer explanations for ...</td>\n",
              "    </tr>\n",
              "  </tbody>\n",
              "</table>\n",
              "<p>649999 rows × 3 columns</p>\n",
              "</div>"
            ],
            "text/plain": [
              "        rating                                           title  \\\n",
              "0            4                         Surprisingly delightful   \n",
              "1            2                    Works, but not as advertised   \n",
              "2            2                                         Oh dear   \n",
              "3            2                                 Incorrect disc!   \n",
              "4            2                                  Incorrect Disc   \n",
              "...        ...                                             ...   \n",
              "649994       5                                    Pretty Cool!   \n",
              "649995       5                                        great cd   \n",
              "649996       2  An interesting look into Boston's comedy clubs   \n",
              "649997       5                      Du vol...pour les cowboys!   \n",
              "649998       4      A Companion Read To GUNS, GERMS, AND STEEL   \n",
              "\n",
              "                                                     text  \n",
              "0       This is a fast read filled with unexpected hum...  \n",
              "1       I bought one of these chargers..the instructio...  \n",
              "2       I was excited to find a book ostensibly about ...  \n",
              "3       I am a big JVC fan, but I do not like this mod...  \n",
              "4       I love the style of this, but after a couple y...  \n",
              "...                                                   ...  \n",
              "649994  We got it for our mom's birthday. She LOVES it...  \n",
              "649995  this cd is very good. i especially love \"cats ...  \n",
              "649996  This was a good documentary on the history of ...  \n",
              "649997  Avez-vous déjà vu un CD double et un DVD avec ...  \n",
              "649998  If you like books that offer explanations for ...  \n",
              "\n",
              "[649999 rows x 3 columns]"
            ]
          },
          "execution_count": 9,
          "metadata": {},
          "output_type": "execute_result"
        }
      ],
      "source": [
        "df_test.columns=[\"rating\",\"title\",\"text\"]\n",
        "df_test"
      ]
    },
    {
      "cell_type": "code",
      "execution_count": 10,
      "metadata": {
        "id": "kwnHDIlS5Bh7"
      },
      "outputs": [],
      "source": [
        "test=df_test"
      ]
    },
    {
      "cell_type": "code",
      "execution_count": 11,
      "metadata": {
        "colab": {
          "base_uri": "https://localhost:8080/"
        },
        "id": "JeqVYzKKjEkp",
        "outputId": "9ec08e7d-deda-4ed1-ecbc-a931aaf4674f"
      },
      "outputs": [],
      "source": [
        "def url(text):\n",
        "     url=re.compile(r\"https?://\\S+|www\\.\\S+\")\n",
        "     return url.sub(r\" \",text)\n",
        "train['text']=train.text.map(lambda x:url(x))\n",
        "test['text']=test.text.map(lambda x:url(x))"
      ]
    },
    {
      "cell_type": "code",
      "execution_count": 12,
      "metadata": {
        "colab": {
          "base_uri": "https://localhost:8080/"
        },
        "id": "xNPnTcEqjQOy",
        "outputId": "6be78a7e-b53d-405c-ba26-540045bb3e57"
      },
      "outputs": [],
      "source": [
        "def html(text):\n",
        "  cleaned_data = re.compile('<.*?>')\n",
        "  return cleaned_data.sub(r\" \",text)\n",
        "train['text']=train.text.map(lambda x:html(x))\n",
        "test['text']=test.text.map(lambda x:html(x))"
      ]
    },
    {
      "cell_type": "code",
      "execution_count": 13,
      "metadata": {
        "colab": {
          "base_uri": "https://localhost:8080/"
        },
        "id": "g-BVBjlmjf29",
        "outputId": "c84912b7-c4e9-4c4a-aab0-873d6fd2e7da"
      },
      "outputs": [],
      "source": [
        "def punctuation(text):\n",
        "   data=str.maketrans(' ',' ',string.punctuation)\n",
        "   return text.translate(data)\n",
        "train['text']=train.text.map(lambda x:punctuation(x))\n",
        "test['text']=test.text.map(lambda x:punctuation(x))"
      ]
    },
    {
      "cell_type": "code",
      "execution_count": 14,
      "metadata": {
        "colab": {
          "base_uri": "https://localhost:8080/"
        },
        "id": "_aBsN5l8jV4Q",
        "outputId": "6dd03e82-e7fa-4111-f17e-5823babe71a7"
      },
      "outputs": [],
      "source": [
        "def num(texts):\n",
        "   data = re.sub(r'\\d+', '', texts)\n",
        "   return data\n",
        "train['text']=train['text'].map(num)\n",
        "test['text']=test['text'].map(num)"
      ]
    },
    {
      "cell_type": "code",
      "execution_count": 15,
      "metadata": {
        "colab": {
          "base_uri": "https://localhost:8080/"
        },
        "id": "xDua4cggjnMY",
        "outputId": "6063318a-5f9a-468c-e1a2-d752a2e6364b"
      },
      "outputs": [],
      "source": [
        "stop_words=set(stopwords.words(\"english\"))\n",
        " \n",
        "def stopword(data):\n",
        "   data=[word.lower() for word in data.split() if word.lower() not in stop_words]\n",
        "   return \" \".join(data)\n",
        "train['text']=train['text'].map(stopword)\n",
        "test['text']=test['text'].map(stopword)"
      ]
    },
    {
      "cell_type": "code",
      "execution_count": 16,
      "metadata": {
        "colab": {
          "base_uri": "https://localhost:8080/"
        },
        "id": "mlxkjbszizAq",
        "outputId": "16ef5bc2-002b-40fc-a332-a1859e2599aa"
      },
      "outputs": [
        {
          "name": "stderr",
          "output_type": "stream",
          "text": [
            "/tmp/ipykernel_6850/4053600729.py:5: SettingWithCopyWarning: \n",
            "A value is trying to be set on a copy of a slice from a DataFrame\n",
            "\n",
            "See the caveats in the documentation: https://pandas.pydata.org/pandas-docs/stable/user_guide/indexing.html#returning-a-view-versus-a-copy\n",
            "  test['rating'][i]=1\n",
            "/tmp/ipykernel_6850/4053600729.py:3: SettingWithCopyWarning: \n",
            "A value is trying to be set on a copy of a slice from a DataFrame\n",
            "\n",
            "See the caveats in the documentation: https://pandas.pydata.org/pandas-docs/stable/user_guide/indexing.html#returning-a-view-versus-a-copy\n",
            "  test['rating'][i]=0\n"
          ]
        }
      ],
      "source": [
        "for i in range(len(test)):\n",
        "  if test['rating'][i]==1 or test['rating'][i]==2:\n",
        "    test['rating'][i]=0\n",
        "  else:\n",
        "    test['rating'][i]=1"
      ]
    },
    {
      "cell_type": "code",
      "execution_count": 17,
      "metadata": {
        "colab": {
          "base_uri": "https://localhost:8080/",
          "height": 423
        },
        "id": "CElVCPNei7gY",
        "outputId": "6df2a310-79cd-4c47-a9a8-b76e9fd9c2f8"
      },
      "outputs": [
        {
          "data": {
            "text/html": [
              "<div>\n",
              "<style scoped>\n",
              "    .dataframe tbody tr th:only-of-type {\n",
              "        vertical-align: middle;\n",
              "    }\n",
              "\n",
              "    .dataframe tbody tr th {\n",
              "        vertical-align: top;\n",
              "    }\n",
              "\n",
              "    .dataframe thead th {\n",
              "        text-align: right;\n",
              "    }\n",
              "</style>\n",
              "<table border=\"1\" class=\"dataframe\">\n",
              "  <thead>\n",
              "    <tr style=\"text-align: right;\">\n",
              "      <th></th>\n",
              "      <th>rating</th>\n",
              "      <th>title</th>\n",
              "      <th>text</th>\n",
              "    </tr>\n",
              "  </thead>\n",
              "  <tbody>\n",
              "    <tr>\n",
              "      <th>0</th>\n",
              "      <td>1</td>\n",
              "      <td>Surprisingly delightful</td>\n",
              "      <td>fast read filled unexpected humour profound in...</td>\n",
              "    </tr>\n",
              "    <tr>\n",
              "      <th>1</th>\n",
              "      <td>0</td>\n",
              "      <td>Works, but not as advertised</td>\n",
              "      <td>bought one chargersthe instructions say lights...</td>\n",
              "    </tr>\n",
              "    <tr>\n",
              "      <th>2</th>\n",
              "      <td>0</td>\n",
              "      <td>Oh dear</td>\n",
              "      <td>excited find book ostensibly muslim feminism v...</td>\n",
              "    </tr>\n",
              "    <tr>\n",
              "      <th>3</th>\n",
              "      <td>0</td>\n",
              "      <td>Incorrect disc!</td>\n",
              "      <td>big jvc fan like model suspiscious saw several...</td>\n",
              "    </tr>\n",
              "    <tr>\n",
              "      <th>4</th>\n",
              "      <td>0</td>\n",
              "      <td>Incorrect Disc</td>\n",
              "      <td>love style couple years dvd giving problems do...</td>\n",
              "    </tr>\n",
              "    <tr>\n",
              "      <th>...</th>\n",
              "      <td>...</td>\n",
              "      <td>...</td>\n",
              "      <td>...</td>\n",
              "    </tr>\n",
              "    <tr>\n",
              "      <th>649994</th>\n",
              "      <td>1</td>\n",
              "      <td>Pretty Cool!</td>\n",
              "      <td>got moms birthday loves favorites weather chan...</td>\n",
              "    </tr>\n",
              "    <tr>\n",
              "      <th>649995</th>\n",
              "      <td>1</td>\n",
              "      <td>great cd</td>\n",
              "      <td>cd good especially love cats mars would highly...</td>\n",
              "    </tr>\n",
              "    <tr>\n",
              "      <th>649996</th>\n",
              "      <td>0</td>\n",
              "      <td>An interesting look into Boston's comedy clubs</td>\n",
              "      <td>good documentary history two local comedy club...</td>\n",
              "    </tr>\n",
              "    <tr>\n",
              "      <th>649997</th>\n",
              "      <td>1</td>\n",
              "      <td>Du vol...pour les cowboys!</td>\n",
              "      <td>avezvous déjà vu un cd double et un dvd avec p...</td>\n",
              "    </tr>\n",
              "    <tr>\n",
              "      <th>649998</th>\n",
              "      <td>1</td>\n",
              "      <td>A Companion Read To GUNS, GERMS, AND STEEL</td>\n",
              "      <td>like books offer explanations humankinds big q...</td>\n",
              "    </tr>\n",
              "  </tbody>\n",
              "</table>\n",
              "<p>649999 rows × 3 columns</p>\n",
              "</div>"
            ],
            "text/plain": [
              "        rating                                           title  \\\n",
              "0            1                         Surprisingly delightful   \n",
              "1            0                    Works, but not as advertised   \n",
              "2            0                                         Oh dear   \n",
              "3            0                                 Incorrect disc!   \n",
              "4            0                                  Incorrect Disc   \n",
              "...        ...                                             ...   \n",
              "649994       1                                    Pretty Cool!   \n",
              "649995       1                                        great cd   \n",
              "649996       0  An interesting look into Boston's comedy clubs   \n",
              "649997       1                      Du vol...pour les cowboys!   \n",
              "649998       1      A Companion Read To GUNS, GERMS, AND STEEL   \n",
              "\n",
              "                                                     text  \n",
              "0       fast read filled unexpected humour profound in...  \n",
              "1       bought one chargersthe instructions say lights...  \n",
              "2       excited find book ostensibly muslim feminism v...  \n",
              "3       big jvc fan like model suspiscious saw several...  \n",
              "4       love style couple years dvd giving problems do...  \n",
              "...                                                   ...  \n",
              "649994  got moms birthday loves favorites weather chan...  \n",
              "649995  cd good especially love cats mars would highly...  \n",
              "649996  good documentary history two local comedy club...  \n",
              "649997  avezvous déjà vu un cd double et un dvd avec p...  \n",
              "649998  like books offer explanations humankinds big q...  \n",
              "\n",
              "[649999 rows x 3 columns]"
            ]
          },
          "execution_count": 17,
          "metadata": {},
          "output_type": "execute_result"
        }
      ],
      "source": [
        "test"
      ]
    },
    {
      "cell_type": "code",
      "execution_count": 18,
      "metadata": {
        "colab": {
          "base_uri": "https://localhost:8080/"
        },
        "id": "GIPtAh1JjNQg",
        "outputId": "269c478b-7408-4c6b-d4d7-92db6816f974"
      },
      "outputs": [
        {
          "name": "stderr",
          "output_type": "stream",
          "text": [
            "[nltk_data] Downloading package punkt to /home/lupin/nltk_data...\n",
            "[nltk_data]   Package punkt is already up-to-date!\n"
          ]
        }
      ],
      "source": [
        "import nltk\n",
        "nltk.download('punkt')\n",
        "from nltk.corpus import stopwords\n",
        "from nltk.stem import SnowballStemmer\n",
        "def Stemming(text):\n",
        "   stem=[]\n",
        "   stopword = stopwords.words('english')\n",
        "   snowball_stemmer = SnowballStemmer('english')\n",
        "   word_tokens = nltk.word_tokenize(text)\n",
        "   stemmed_word = [snowball_stemmer.stem(word) for word in word_tokens]\n",
        "   stem=' '.join(stemmed_word)\n",
        "   return stem"
      ]
    },
    {
      "cell_type": "code",
      "execution_count": 19,
      "metadata": {
        "colab": {
          "base_uri": "https://localhost:8080/"
        },
        "id": "9TjRLQenjOQN",
        "outputId": "87ca7eab-7b45-4f32-bc6e-0c19b4a953a5"
      },
      "outputs": [],
      "source": [
        "train['text']=train['text'].map(Stemming)\n",
        "test['text']=test['text'].map(Stemming)"
      ]
    },
    {
      "cell_type": "code",
      "execution_count": 20,
      "metadata": {
        "id": "bWu0j3VBkCis"
      },
      "outputs": [],
      "source": [
        "tokenized = Tokenizer(num_words=32000,oov_token=\"<OOV>\")\n",
        "tokenized.fit_on_texts(train['text'])\n",
        "\n",
        "word_index = tokenized.word_index\n",
        "\n",
        "training_sequences = tokenized.texts_to_sequences(train['text'])\n",
        "training_padded = pad_sequences(training_sequences, maxlen=100, padding=\"post\", truncating=\"post\")\n",
        "testing_sequences = tokenized.texts_to_sequences(test['text'])\n",
        "testing_padded = pad_sequences(testing_sequences, maxlen=100, padding=\"post\", truncating=\"post\")"
      ]
    },
    {
      "cell_type": "code",
      "execution_count": 21,
      "metadata": {
        "colab": {
          "base_uri": "https://localhost:8080/"
        },
        "id": "kHusQcNUkUmO",
        "outputId": "acf5b5e0-354a-497b-8c24-eb644157ab08"
      },
      "outputs": [
        {
          "name": "stderr",
          "output_type": "stream",
          "text": [
            "2022-04-27 01:51:58.057158: I tensorflow/core/platform/cpu_feature_guard.cc:151] This TensorFlow binary is optimized with oneAPI Deep Neural Network Library (oneDNN) to use the following CPU instructions in performance-critical operations:  AVX2 FMA\n",
            "To enable them in other operations, rebuild TensorFlow with the appropriate compiler flags.\n",
            "2022-04-27 01:51:58.728743: I tensorflow/core/common_runtime/gpu/gpu_device.cc:1525] Created device /job:localhost/replica:0/task:0/device:GPU:0 with 10018 MB memory:  -> device: 0, name: NVIDIA GeForce RTX 3060, pci bus id: 0000:41:00.0, compute capability: 8.6\n"
          ]
        },
        {
          "name": "stdout",
          "output_type": "stream",
          "text": [
            "Model: \"sequential\"\n",
            "_________________________________________________________________\n",
            " Layer (type)                Output Shape              Param #   \n",
            "=================================================================\n",
            " embedding (Embedding)       (None, 100, 64)           2048000   \n",
            "                                                                 \n",
            " spatial_dropout1d (SpatialD  (None, 100, 64)          0         \n",
            " ropout1D)                                                       \n",
            "                                                                 \n",
            " lstm (LSTM)                 (None, 100, 256)          328704    \n",
            "                                                                 \n",
            " lstm_1 (LSTM)               (None, 256)               525312    \n",
            "                                                                 \n",
            " dense (Dense)               (None, 1)                 257       \n",
            "                                                                 \n",
            " activation (Activation)     (None, 1)                 0         \n",
            "                                                                 \n",
            "=================================================================\n",
            "Total params: 2,902,273\n",
            "Trainable params: 2,902,273\n",
            "Non-trainable params: 0\n",
            "_________________________________________________________________\n"
          ]
        }
      ],
      "source": [
        "model_lstm = Sequential()\n",
        "model_lstm.add(Embedding(32000, 64, input_length=100))\n",
        "model_lstm.add(SpatialDropout1D(0.2))\n",
        "model_lstm.add(LSTM(256, return_sequences=True, dropout=0.2))\n",
        "model_lstm.add(LSTM(256, return_sequences=False,dropout=0.2))\n",
        "model_lstm.add(Dense(1))\n",
        "model_lstm.add(Activation('sigmoid'))\n",
        "model_lstm.summary()"
      ]
    },
    {
      "cell_type": "code",
      "execution_count": 22,
      "metadata": {},
      "outputs": [
        {
          "name": "stdout",
          "output_type": "stream",
          "text": [
            "Model: \"sequential_1\"\n",
            "_________________________________________________________________\n",
            " Layer (type)                Output Shape              Param #   \n",
            "=================================================================\n",
            " embedding_1 (Embedding)     (None, 100, 64)           2048000   \n",
            "                                                                 \n",
            " spatial_dropout1d_1 (Spatia  (None, 100, 64)          0         \n",
            " lDropout1D)                                                     \n",
            "                                                                 \n",
            " bidirectional (Bidirectiona  (None, 512)              657408    \n",
            " l)                                                              \n",
            "                                                                 \n",
            " dense_1 (Dense)             (None, 1)                 513       \n",
            "                                                                 \n",
            " activation_1 (Activation)   (None, 1)                 0         \n",
            "                                                                 \n",
            "=================================================================\n",
            "Total params: 2,705,921\n",
            "Trainable params: 2,705,921\n",
            "Non-trainable params: 0\n",
            "_________________________________________________________________\n"
          ]
        }
      ],
      "source": [
        "model_bilstm = Sequential()\n",
        "model_bilstm.add(Embedding(32000, 64, input_length=100))\n",
        "model_bilstm.add(SpatialDropout1D(0.2))\n",
        "model_bilstm.add(Bidirectional(LSTM(256, dropout=0.2)))\n",
        "model_bilstm.add(Dense(1))\n",
        "model_bilstm.add(Activation('sigmoid'))\n",
        "model_bilstm.summary()"
      ]
    },
    {
      "cell_type": "code",
      "execution_count": 23,
      "metadata": {
        "colab": {
          "base_uri": "https://localhost:8080/"
        },
        "id": "4DU43okdkWS0",
        "outputId": "d0fed444-f999-4181-e0b0-ad55cf3f7ba0"
      },
      "outputs": [
        {
          "name": "stderr",
          "output_type": "stream",
          "text": [
            "/home/lupin/gilbert/venv/lib/python3.8/site-packages/keras/optimizer_v2/adam.py:105: UserWarning: The `lr` argument is deprecated, use `learning_rate` instead.\n",
            "  super(Adam, self).__init__(name, **kwargs)\n"
          ]
        }
      ],
      "source": [
        "adam_lstm=Adam(lr=0.000001)\n",
        "model_lstm.compile(loss='binary_crossentropy',optimizer=adam_lstm,metrics=['accuracy'] )\n",
        "adam_bilstm=Adam(lr=0.0001)\n",
        "model_bilstm.compile(loss='binary_crossentropy',optimizer=adam_bilstm,metrics=['accuracy'] )"
      ]
    },
    {
      "cell_type": "code",
      "execution_count": 24,
      "metadata": {
        "colab": {
          "base_uri": "https://localhost:8080/"
        },
        "id": "76e-bq1kkeWI",
        "outputId": "c2a7ad94-4497-4a79-b537-69a9311539fd"
      },
      "outputs": [
        {
          "name": "stderr",
          "output_type": "stream",
          "text": [
            "2022-04-27 01:52:04.629617: I tensorflow/stream_executor/cuda/cuda_blas.cc:1786] TensorFloat-32 will be used for the matrix multiplication. This will only be logged once.\n"
          ]
        },
        {
          "name": "stdout",
          "output_type": "stream",
          "text": [
            "23438/23438 [==============================] - 19102s 815ms/step - loss: 0.6738 - accuracy: 0.6000 - val_loss: 0.6731 - val_accuracy: 0.6000\n"
          ]
        }
      ],
      "source": [
        "history=model_lstm.fit(training_padded,train['rating'], epochs=1, batch_size=128,verbose = 1,callbacks = [EarlyStopping(monitor='val_accuracy', patience=2)],validation_data=(testing_padded,test['rating']))"
      ]
    },
    {
      "cell_type": "code",
      "execution_count": 25,
      "metadata": {
        "id": "T3h9rsxnnAHr"
      },
      "outputs": [],
      "source": [
        "y_pred = model_lstm.predict(testing_padded)\n",
        "y_pred = (y_pred > 0.5)\n",
        "X_test=testing_padded\n",
        "y_test=test['rating']"
      ]
    },
    {
      "cell_type": "code",
      "execution_count": 26,
      "metadata": {
        "colab": {
          "base_uri": "https://localhost:8080/"
        },
        "id": "Angj4Aqar-pu",
        "outputId": "97dcc079-1c3c-4668-a742-c0a48d7acd3c"
      },
      "outputs": [
        {
          "name": "stdout",
          "output_type": "stream",
          "text": [
            "Accuracy: 0.600001\n",
            "Precision: 0.600001\n",
            "Recall: 1.000000\n",
            "F1 score: 0.750001\n",
            "[[     0 259999]\n",
            " [     0 390000]]\n"
          ]
        }
      ],
      "source": [
        "from sklearn.metrics import accuracy_score,precision_score,recall_score,f1_score,roc_auc_score,confusion_matrix\n",
        "final_Acc = accuracy_score(y_test, y_pred)\n",
        "print('Accuracy: %f' % final_Acc)\n",
        "\n",
        "precision_final = precision_score(y_test, y_pred)\n",
        "print('Precision: %f' % precision_final)\n",
        "\n",
        "recall_final = recall_score(y_test, y_pred)\n",
        "print('Recall: %f' % recall_final)\n",
        "\n",
        "f1_final = f1_score(y_test, y_pred)\n",
        "print('F1 score: %f' % f1_final)\n",
        " \n",
        "\n",
        "auc = roc_auc_score(y_test, y_pred)\n",
        "\n",
        "matrix = confusion_matrix(y_test, y_pred)\n",
        "print(matrix)"
      ]
    },
    {
      "cell_type": "code",
      "execution_count": 27,
      "metadata": {},
      "outputs": [
        {
          "name": "stdout",
          "output_type": "stream",
          "text": [
            "23438/23438 [==============================] - 18661s 796ms/step - loss: 0.4361 - accuracy: 0.7943 - val_loss: 0.4087 - val_accuracy: 0.8095\n"
          ]
        }
      ],
      "source": [
        "history=model_bilstm.fit(training_padded,train['rating'], epochs=1, batch_size=128,verbose = 1,callbacks = [EarlyStopping(monitor='val_accuracy', patience=2)],validation_data=(testing_padded,test['rating']))"
      ]
    },
    {
      "cell_type": "code",
      "execution_count": 28,
      "metadata": {
        "id": "BYr_D_VRsKV8"
      },
      "outputs": [],
      "source": [
        "y_pred = model_bilstm.predict(testing_padded)\n",
        "y_pred = (y_pred > 0.5)\n",
        "X_test=testing_padded\n",
        "y_test=test['rating']"
      ]
    },
    {
      "cell_type": "code",
      "execution_count": 29,
      "metadata": {},
      "outputs": [
        {
          "name": "stdout",
          "output_type": "stream",
          "text": [
            "Accuracy: 0.809514\n",
            "Precision: 0.835694\n",
            "Recall: 0.849554\n",
            "F1 score: 0.842567\n"
          ]
        }
      ],
      "source": [
        "from sklearn.metrics import accuracy_score,precision_score,recall_score,f1_score,roc_auc_score,confusion_matrix\n",
        "final_Acc = accuracy_score(y_test, y_pred)\n",
        "print('Accuracy: %f' % final_Acc)\n",
        "\n",
        "precision_final = precision_score(y_test, y_pred)\n",
        "print('Precision: %f' % precision_final)\n",
        "\n",
        "recall_final = recall_score(y_test, y_pred)\n",
        "print('Recall: %f' % recall_final)\n",
        "\n",
        "f1_final = f1_score(y_test, y_pred)\n",
        "print('F1 score: %f' % f1_final)\n",
        " \n",
        "\n",
        "auc = roc_auc_score(y_test, y_pred)\n",
        "\n",
        "matrix = confusion_matrix(y_test, y_pred)"
      ]
    },
    {
      "cell_type": "code",
      "execution_count": 30,
      "metadata": {},
      "outputs": [],
      "source": [
        "model_bilstm.save('bilstm.h5')\n",
        "model_lstm.save('lstm.h5')"
      ]
    },
    {
      "cell_type": "code",
      "execution_count": null,
      "metadata": {},
      "outputs": [],
      "source": []
    }
  ],
  "metadata": {
    "colab": {
      "name": "LSTMFInal_data_mining_project.ipynb",
      "provenance": []
    },
    "kernelspec": {
      "display_name": "Python 3",
      "name": "python3"
    },
    "language_info": {
      "codemirror_mode": {
        "name": "ipython",
        "version": 3
      },
      "file_extension": ".py",
      "mimetype": "text/x-python",
      "name": "python",
      "nbconvert_exporter": "python",
      "pygments_lexer": "ipython3",
      "version": "3.8.10"
    }
  },
  "nbformat": 4,
  "nbformat_minor": 0
}
